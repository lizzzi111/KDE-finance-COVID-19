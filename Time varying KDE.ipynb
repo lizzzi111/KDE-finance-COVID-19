{
 "cells": [
  {
   "cell_type": "code",
   "execution_count": null,
   "metadata": {},
   "outputs": [],
   "source": [
    "#pip install KDEpy"
   ]
  },
  {
   "cell_type": "code",
   "execution_count": 1,
   "metadata": {},
   "outputs": [],
   "source": [
    "import pandas as pd\n",
    "import numpy as np\n",
    "from KDEpy import FFTKDE\n",
    "import matplotlib.pyplot as plt\n",
    "from scipy.optimize import minimize\n",
    "from scipy.optimize import Bounds\n",
    "from statsmodels.nonparametric.bandwidths import bw_silverman\n",
    "import math"
   ]
  },
  {
   "cell_type": "code",
   "execution_count": 2,
   "metadata": {},
   "outputs": [],
   "source": [
    "dax = pd.read_csv(r'data/DAX.csv')\n",
    "dax.head()\n",
    "\n",
    "# I will work with daily high\n",
    "X = np.array(dax[['High']])\n",
    "\n",
    "#set t as the time of estimation eg. last data point\n",
    "t = len(X)"
   ]
  },
  {
   "cell_type": "code",
   "execution_count": 33,
   "metadata": {},
   "outputs": [],
   "source": [
    "kde = KernelDensity(kernel='gaussian', bandwidth=0.2).fit(X[:10])"
   ]
  },
  {
   "cell_type": "code",
   "execution_count": 3,
   "metadata": {},
   "outputs": [],
   "source": [
    "# exponential weighing function\n",
    "def weight(i,t,T, omega):\n",
    "        w_i = (omega**(abs(t-i)) + omega**(2*T-t-i+1) + omega**(t+i-1))*(1-omega)/(1+omega)\n",
    "        return w_i\n",
    "\n",
    "# vectorizing the weights\n",
    "weights = np.vectorize(weight)"
   ]
  },
  {
   "cell_type": "markdown",
   "metadata": {},
   "source": [
    "def likelihood(omega,X):\n",
    "    T = len(X)\n",
    "    h = bw_silverman(X)\n",
    "    sum_1 = 0\n",
    "    for i in range(0,T):\n",
    "            iterations = list(range(0,T)) #vector of i for weights\n",
    "            w = weights(iterations, i, T,omega) #generating weights\n",
    "            x, y = FFTKDE(kernel='gaussian', bw=h).fit(X, weights=w).evaluate(t) #density estimate at t\n",
    "            y = y-(1/(math.sqrt(2*math.pi))*w[i-1]) # eliminating the term with i=t\n",
    "            add = np.log((1/h)*sum(y)) \n",
    "            sum_1 = sum_1 + add\n",
    "    l = -(1/T)*sum_1 #negative because changing max problem into min problem\n",
    "    return l"
   ]
  },
  {
   "cell_type": "code",
   "execution_count": 4,
   "metadata": {},
   "outputs": [],
   "source": [
    "def likelihood(omega,X,t):\n",
    "    T = len(X)\n",
    "    h = bw_silverman(X)\n",
    "    iterations = list(range(0,T)) #vector of i for weights\n",
    "    w = weights(iterations, t, T,omega) #generating weights\n",
    "    x, y = FFTKDE(kernel='gaussian', bw=h).fit(X, weights=w).evaluate(t) #density estimate at t\n",
    "    #y = y-(1/(math.sqrt(2*math.pi))*w[t-1]) # eliminating the term with i=t\n",
    "    l   = -(1/T)*sum(np.log((y))) #negative because changing max problem into min problem\n",
    "    return l"
   ]
  },
  {
   "cell_type": "code",
   "execution_count": 5,
   "metadata": {},
   "outputs": [
    {
     "name": "stdout",
     "output_type": "stream",
     "text": [
      "`gtol` termination condition is satisfied.\n",
      "Number of iterations: 14, function evaluations: 20, CG iterations: 9, optimality: 7.35e-09, constraint violation: 0.00e+00, execution time: 0.083 s.\n"
     ]
    }
   ],
   "source": [
    "x0=np.array([0.1]) # initial guess\n",
    "bounds = Bounds([0.00001],[1]) #bounds for omega #zero not included\n",
    "omega_opt = minimize(likelihood,x0, method='trust-constr',args=(X,t), options={'disp': True}, bounds= bounds)"
   ]
  },
  {
   "cell_type": "code",
   "execution_count": 6,
   "metadata": {},
   "outputs": [
    {
     "data": {
      "text/plain": [
       " barrier_parameter: 0.00016000000000000007\n",
       " barrier_tolerance: 0.00016000000000000007\n",
       "          cg_niter: 9\n",
       "      cg_stop_cond: 1\n",
       "            constr: [array([0.99454505])]\n",
       "       constr_nfev: [0]\n",
       "       constr_nhev: [0]\n",
       "       constr_njev: [0]\n",
       "    constr_penalty: 1.0\n",
       "  constr_violation: 0.0\n",
       "    execution_time: 0.08281922340393066\n",
       "               fun: 4.42639995573164\n",
       "              grad: array([-0.02892321])\n",
       "               jac: [<1x1 sparse matrix of type '<class 'numpy.float64'>'\n",
       "\twith 1 stored elements in Compressed Sparse Row format>]\n",
       "   lagrangian_grad: array([7.35209711e-09])\n",
       "           message: '`gtol` termination condition is satisfied.'\n",
       "            method: 'tr_interior_point'\n",
       "              nfev: 20\n",
       "              nhev: 0\n",
       "               nit: 14\n",
       "             niter: 14\n",
       "              njev: 0\n",
       "        optimality: 7.352097108198619e-09\n",
       "            status: 1\n",
       "           success: True\n",
       "         tr_radius: 6736.321372650127\n",
       "                 v: [array([0.02892322])]\n",
       "                 x: array([0.99454505])"
      ]
     },
     "execution_count": 6,
     "metadata": {},
     "output_type": "execute_result"
    }
   ],
   "source": [
    "omega_opt"
   ]
  },
  {
   "cell_type": "code",
   "execution_count": 7,
   "metadata": {},
   "outputs": [],
   "source": [
    "omega_opt = omega_opt['x'] #extracting the value of optimal omega"
   ]
  },
  {
   "cell_type": "code",
   "execution_count": 8,
   "metadata": {},
   "outputs": [
    {
     "data": {
      "text/plain": [
       "[<matplotlib.lines.Line2D at 0x7fd5adc95e10>]"
      ]
     },
     "execution_count": 8,
     "metadata": {},
     "output_type": "execute_result"
    },
    {
     "data": {
      "image/png": "[encoded data removed]",
      "text/plain": [
       "<Figure size 432x288 with 1 Axes>"
      ]
     },
     "metadata": {
      "needs_background": "light"
     },
     "output_type": "display_data"
    }
   ],
   "source": [
    "# Compute density estimates using 'silverman' bandwidth with uniform weights\n",
    "x, y1 = FFTKDE(kernel='gaussian', bw='silverman').fit(X).evaluate(t)\n",
    "plt.plot(x, y1, label='KDE /w silverman')"
   ]
  },
  {
   "cell_type": "code",
   "execution_count": 9,
   "metadata": {},
   "outputs": [],
   "source": [
    "# Compute a weighted estimate on the same grid, using exponential weights\n",
    "T = len(X)\n",
    "iterations = list(range(0,T))\n",
    "w = weights(iterations, t, T,omega_opt)\n",
    "x,y2 = FFTKDE(kernel='gaussian', bw='silverman').fit(X, weights=w).evaluate(t)"
   ]
  },
  {
   "cell_type": "code",
   "execution_count": 10,
   "metadata": {},
   "outputs": [
    {
     "data": {
      "text/plain": [
       "<matplotlib.legend.Legend at 0x7fd5adccdd30>"
      ]
     },
     "execution_count": 10,
     "metadata": {},
     "output_type": "execute_result"
    },
    {
     "data": {
      "image/png": "[encoded data removed]",
      "text/plain": [
       "<Figure size 432x288 with 1 Axes>"
      ]
     },
     "metadata": {
      "needs_background": "light"
     },
     "output_type": "display_data"
    }
   ],
   "source": [
    "plt.plot(x, y1, label='KDE estimate with defaults')\n",
    "plt.plot(x, y2, label='KDE estimate with exponential weights')\n",
    "plt.grid(True, ls='--', zorder=-15); plt.legend()"
   ]
  },
  {
   "cell_type": "markdown",
   "metadata": {},
   "source": [
    "### KDE estimate using sklearn"
   ]
  },
  {
   "cell_type": "code",
   "execution_count": 17,
   "metadata": {},
   "outputs": [],
   "source": [
    "import pandas as pd\n",
    "import numpy as np\n",
    "from KDEpy import FFTKDE\n",
    "import matplotlib.pyplot as plt\n",
    "from scipy.optimize import minimize\n",
    "from scipy.optimize import Bounds\n",
    "from statsmodels.nonparametric.bandwidths import bw_silverman\n",
    "import math\n",
    "from sklearn.neighbors import KernelDensity\n",
    "import datetime as dt"
   ]
  },
  {
   "cell_type": "code",
   "execution_count": 11,
   "metadata": {},
   "outputs": [],
   "source": [
    "dax = pd.read_csv(r'data/returns_dax.csv', index_col=[0])\n",
    "nq = pd.read_csv(r'data/returns_nq.csv', index_col=[0])\n",
    "dow = pd.read_csv(r'data/returns_dow.csv', index_col=[0])\n",
    "crix = pd.read_csv(r'data/returns_crix.csv', index_col=[0])\n",
    "crix.drop(crix.head(1).index,inplace = True)\n",
    "snp500 = pd.read_csv(r'data/returns_snp500.csv', index_col=[0])\n",
    "btc = pd.read_csv(r'data/returns_btc.csv', index_col=[0])\n",
    "btc.drop(btc.head(1).index,inplace = True)\n",
    "btc.drop(btc.tail(1).index,inplace = True)#btc has two additional data point"
   ]
  },
  {
   "cell_type": "code",
   "execution_count": 12,
   "metadata": {},
   "outputs": [],
   "source": [
    "df = pd.read_csv(r'data/returns_dax.csv', index_col=[0])\n",
    "\n",
    "# working with returns\n",
    "# extracting only the rows with year 2019 and then later do the same for 2020\n",
    "year = 2019\n",
    "df['Date'] = pd.to_datetime(df['Date'])\n",
    "df = df[df['Date'].dt.year == year]\n",
    "X = np.array(df[['Low']])\n",
    "\n",
    "#set t as the time of estimation eg. last data point\n",
    "t = len(X)"
   ]
  },
  {
   "cell_type": "code",
   "execution_count": 13,
   "metadata": {},
   "outputs": [],
   "source": [
    "### Creating X grid\n",
    "values = np.array([value for value in range(1, t)])\n",
    "values = values.reshape((len(values), 1))"
   ]
  },
  {
   "cell_type": "code",
   "execution_count": 14,
   "metadata": {},
   "outputs": [],
   "source": [
    "# exponential weighing function\n",
    "def weight(i,t,T, omega):\n",
    "        w_i = (omega**(abs(t-i)) + omega**(2*T-t-i+1) + omega**(t+i-1))*(1-omega)/(1+omega)\n",
    "        return w_i +0.000000000001\n",
    "\n",
    "# vectorizing the weights\n",
    "weights = np.vectorize(weight)\n",
    "\n",
    "def likelihood(omega,X,t):\n",
    "    T = len(X)\n",
    "    h = bw_silverman(X)\n",
    "    iterations = list(range(0,T)) #vector of i for weights\n",
    "    w = weights(iterations, t, T,omega) #generating weights\n",
    "    kde_weighted = KernelDensity(kernel='gaussian', bandwidth=h).fit(X, sample_weight=w)\n",
    "    log_dens = kde_weighted.score_samples(values)\n",
    "    #y = y-(1/(math.sqrt(2*math.pi))*w[t-1]) # eliminating the term with i=t\n",
    "    l   = -(1/T)*sum(log_dens) #negative because changing max problem into min problem\n",
    "    #print(omega)\n",
    "    #print(l)\n",
    "    return l\n",
    "\n",
    "def optimize_manual(X,t):\n",
    "    ## Manually calculating the optminum\n",
    "    omega_grid = np.linspace(0.000000001,0.99999999,100).tolist()\n",
    "    ls = []\n",
    "    for i in range(len(omega_grid)):\n",
    "        omega = omega_grid[i];\n",
    "        l = likelihood(omega, X,t);\n",
    "        ls.append(l);\n",
    "    fun_val_opt= min(ls)\n",
    "    print('optimal function value is:',fun_val_opt)\n",
    "    omega_opt = omega_grid[ls.index(min(ls))]\n",
    "    print('optimal omega is:',omega_opt)\n",
    "    return omega_opt"
   ]
  },
  {
   "cell_type": "code",
   "execution_count": 15,
   "metadata": {},
   "outputs": [],
   "source": [
    "T = len(X)\n",
    "h = bw_silverman(X)\n",
    "iterations = list(range(0,T)) #vector of i for weights\n",
    "#w = weights(iterations, t, T,0.1) #generating weights"
   ]
  },
  {
   "cell_type": "code",
   "execution_count": 18,
   "metadata": {},
   "outputs": [
    {
     "name": "stderr",
     "output_type": "stream",
     "text": [
      "/Users/izzy/anaconda3/lib/python3.7/site-packages/scipy/optimize/_hessian_update_strategy.py:187: UserWarning: delta_grad == 0.0. Check if the approximated function is linear. If the function is linear better results can be obtained by defining the Hessian as zero instead of using quasi-Newton approximations.\n",
      "  'approximations.', UserWarning)\n",
      "/Users/izzy/anaconda3/lib/python3.7/site-packages/scipy/optimize/_hessian_update_strategy.py:187: UserWarning: delta_grad == 0.0. Check if the approximated function is linear. If the function is linear better results can be obtained by defining the Hessian as zero instead of using quasi-Newton approximations.\n",
      "  'approximations.', UserWarning)\n",
      "/Users/izzy/anaconda3/lib/python3.7/site-packages/scipy/optimize/_hessian_update_strategy.py:187: UserWarning: delta_grad == 0.0. Check if the approximated function is linear. If the function is linear better results can be obtained by defining the Hessian as zero instead of using quasi-Newton approximations.\n",
      "  'approximations.', UserWarning)\n",
      "/Users/izzy/anaconda3/lib/python3.7/site-packages/scipy/optimize/_hessian_update_strategy.py:187: UserWarning: delta_grad == 0.0. Check if the approximated function is linear. If the function is linear better results can be obtained by defining the Hessian as zero instead of using quasi-Newton approximations.\n",
      "  'approximations.', UserWarning)\n",
      "/Users/izzy/anaconda3/lib/python3.7/site-packages/scipy/optimize/_hessian_update_strategy.py:187: UserWarning: delta_grad == 0.0. Check if the approximated function is linear. If the function is linear better results can be obtained by defining the Hessian as zero instead of using quasi-Newton approximations.\n",
      "  'approximations.', UserWarning)\n",
      "/Users/izzy/anaconda3/lib/python3.7/site-packages/scipy/optimize/_hessian_update_strategy.py:187: UserWarning: delta_grad == 0.0. Check if the approximated function is linear. If the function is linear better results can be obtained by defining the Hessian as zero instead of using quasi-Newton approximations.\n",
      "  'approximations.', UserWarning)\n",
      "/Users/izzy/anaconda3/lib/python3.7/site-packages/scipy/optimize/_hessian_update_strategy.py:187: UserWarning: delta_grad == 0.0. Check if the approximated function is linear. If the function is linear better results can be obtained by defining the Hessian as zero instead of using quasi-Newton approximations.\n",
      "  'approximations.', UserWarning)\n",
      "/Users/izzy/anaconda3/lib/python3.7/site-packages/scipy/optimize/_hessian_update_strategy.py:187: UserWarning: delta_grad == 0.0. Check if the approximated function is linear. If the function is linear better results can be obtained by defining the Hessian as zero instead of using quasi-Newton approximations.\n",
      "  'approximations.', UserWarning)\n",
      "/Users/izzy/anaconda3/lib/python3.7/site-packages/scipy/optimize/_hessian_update_strategy.py:187: UserWarning: delta_grad == 0.0. Check if the approximated function is linear. If the function is linear better results can be obtained by defining the Hessian as zero instead of using quasi-Newton approximations.\n",
      "  'approximations.', UserWarning)\n",
      "/Users/izzy/anaconda3/lib/python3.7/site-packages/scipy/optimize/_hessian_update_strategy.py:187: UserWarning: delta_grad == 0.0. Check if the approximated function is linear. If the function is linear better results can be obtained by defining the Hessian as zero instead of using quasi-Newton approximations.\n",
      "  'approximations.', UserWarning)\n",
      "/Users/izzy/anaconda3/lib/python3.7/site-packages/scipy/optimize/_hessian_update_strategy.py:187: UserWarning: delta_grad == 0.0. Check if the approximated function is linear. If the function is linear better results can be obtained by defining the Hessian as zero instead of using quasi-Newton approximations.\n",
      "  'approximations.', UserWarning)\n",
      "/Users/izzy/anaconda3/lib/python3.7/site-packages/scipy/optimize/_hessian_update_strategy.py:187: UserWarning: delta_grad == 0.0. Check if the approximated function is linear. If the function is linear better results can be obtained by defining the Hessian as zero instead of using quasi-Newton approximations.\n",
      "  'approximations.', UserWarning)\n",
      "/Users/izzy/anaconda3/lib/python3.7/site-packages/scipy/optimize/_hessian_update_strategy.py:187: UserWarning: delta_grad == 0.0. Check if the approximated function is linear. If the function is linear better results can be obtained by defining the Hessian as zero instead of using quasi-Newton approximations.\n",
      "  'approximations.', UserWarning)\n",
      "/Users/izzy/anaconda3/lib/python3.7/site-packages/scipy/optimize/_hessian_update_strategy.py:187: UserWarning: delta_grad == 0.0. Check if the approximated function is linear. If the function is linear better results can be obtained by defining the Hessian as zero instead of using quasi-Newton approximations.\n",
      "  'approximations.', UserWarning)\n",
      "/Users/izzy/anaconda3/lib/python3.7/site-packages/scipy/optimize/_hessian_update_strategy.py:187: UserWarning: delta_grad == 0.0. Check if the approximated function is linear. If the function is linear better results can be obtained by defining the Hessian as zero instead of using quasi-Newton approximations.\n",
      "  'approximations.', UserWarning)\n",
      "/Users/izzy/anaconda3/lib/python3.7/site-packages/scipy/optimize/_hessian_update_strategy.py:187: UserWarning: delta_grad == 0.0. Check if the approximated function is linear. If the function is linear better results can be obtained by defining the Hessian as zero instead of using quasi-Newton approximations.\n",
      "  'approximations.', UserWarning)\n",
      "/Users/izzy/anaconda3/lib/python3.7/site-packages/scipy/optimize/_hessian_update_strategy.py:187: UserWarning: delta_grad == 0.0. Check if the approximated function is linear. If the function is linear better results can be obtained by defining the Hessian as zero instead of using quasi-Newton approximations.\n",
      "  'approximations.', UserWarning)\n",
      "/Users/izzy/anaconda3/lib/python3.7/site-packages/scipy/optimize/_hessian_update_strategy.py:187: UserWarning: delta_grad == 0.0. Check if the approximated function is linear. If the function is linear better results can be obtained by defining the Hessian as zero instead of using quasi-Newton approximations.\n",
      "  'approximations.', UserWarning)\n",
      "/Users/izzy/anaconda3/lib/python3.7/site-packages/scipy/optimize/_hessian_update_strategy.py:187: UserWarning: delta_grad == 0.0. Check if the approximated function is linear. If the function is linear better results can be obtained by defining the Hessian as zero instead of using quasi-Newton approximations.\n",
      "  'approximations.', UserWarning)\n",
      "/Users/izzy/anaconda3/lib/python3.7/site-packages/scipy/optimize/_hessian_update_strategy.py:187: UserWarning: delta_grad == 0.0. Check if the approximated function is linear. If the function is linear better results can be obtained by defining the Hessian as zero instead of using quasi-Newton approximations.\n",
      "  'approximations.', UserWarning)\n",
      "/Users/izzy/anaconda3/lib/python3.7/site-packages/scipy/optimize/_hessian_update_strategy.py:187: UserWarning: delta_grad == 0.0. Check if the approximated function is linear. If the function is linear better results can be obtained by defining the Hessian as zero instead of using quasi-Newton approximations.\n",
      "  'approximations.', UserWarning)\n",
      "/Users/izzy/anaconda3/lib/python3.7/site-packages/scipy/optimize/_hessian_update_strategy.py:187: UserWarning: delta_grad == 0.0. Check if the approximated function is linear. If the function is linear better results can be obtained by defining the Hessian as zero instead of using quasi-Newton approximations.\n",
      "  'approximations.', UserWarning)\n",
      "/Users/izzy/anaconda3/lib/python3.7/site-packages/scipy/optimize/_hessian_update_strategy.py:187: UserWarning: delta_grad == 0.0. Check if the approximated function is linear. If the function is linear better results can be obtained by defining the Hessian as zero instead of using quasi-Newton approximations.\n",
      "  'approximations.', UserWarning)\n",
      "/Users/izzy/anaconda3/lib/python3.7/site-packages/scipy/optimize/_hessian_update_strategy.py:187: UserWarning: delta_grad == 0.0. Check if the approximated function is linear. If the function is linear better results can be obtained by defining the Hessian as zero instead of using quasi-Newton approximations.\n",
      "  'approximations.', UserWarning)\n",
      "/Users/izzy/anaconda3/lib/python3.7/site-packages/scipy/optimize/_hessian_update_strategy.py:187: UserWarning: delta_grad == 0.0. Check if the approximated function is linear. If the function is linear better results can be obtained by defining the Hessian as zero instead of using quasi-Newton approximations.\n",
      "  'approximations.', UserWarning)\n",
      "/Users/izzy/anaconda3/lib/python3.7/site-packages/scipy/optimize/_hessian_update_strategy.py:187: UserWarning: delta_grad == 0.0. Check if the approximated function is linear. If the function is linear better results can be obtained by defining the Hessian as zero instead of using quasi-Newton approximations.\n",
      "  'approximations.', UserWarning)\n",
      "/Users/izzy/anaconda3/lib/python3.7/site-packages/scipy/optimize/_hessian_update_strategy.py:187: UserWarning: delta_grad == 0.0. Check if the approximated function is linear. If the function is linear better results can be obtained by defining the Hessian as zero instead of using quasi-Newton approximations.\n",
      "  'approximations.', UserWarning)\n",
      "/Users/izzy/anaconda3/lib/python3.7/site-packages/scipy/optimize/_hessian_update_strategy.py:187: UserWarning: delta_grad == 0.0. Check if the approximated function is linear. If the function is linear better results can be obtained by defining the Hessian as zero instead of using quasi-Newton approximations.\n",
      "  'approximations.', UserWarning)\n",
      "/Users/izzy/anaconda3/lib/python3.7/site-packages/scipy/optimize/_hessian_update_strategy.py:187: UserWarning: delta_grad == 0.0. Check if the approximated function is linear. If the function is linear better results can be obtained by defining the Hessian as zero instead of using quasi-Newton approximations.\n",
      "  'approximations.', UserWarning)\n",
      "/Users/izzy/anaconda3/lib/python3.7/site-packages/scipy/optimize/_hessian_update_strategy.py:187: UserWarning: delta_grad == 0.0. Check if the approximated function is linear. If the function is linear better results can be obtained by defining the Hessian as zero instead of using quasi-Newton approximations.\n",
      "  'approximations.', UserWarning)\n",
      "/Users/izzy/anaconda3/lib/python3.7/site-packages/scipy/optimize/_hessian_update_strategy.py:187: UserWarning: delta_grad == 0.0. Check if the approximated function is linear. If the function is linear better results can be obtained by defining the Hessian as zero instead of using quasi-Newton approximations.\n",
      "  'approximations.', UserWarning)\n",
      "/Users/izzy/anaconda3/lib/python3.7/site-packages/scipy/optimize/_hessian_update_strategy.py:187: UserWarning: delta_grad == 0.0. Check if the approximated function is linear. If the function is linear better results can be obtained by defining the Hessian as zero instead of using quasi-Newton approximations.\n",
      "  'approximations.', UserWarning)\n",
      "/Users/izzy/anaconda3/lib/python3.7/site-packages/scipy/optimize/_hessian_update_strategy.py:187: UserWarning: delta_grad == 0.0. Check if the approximated function is linear. If the function is linear better results can be obtained by defining the Hessian as zero instead of using quasi-Newton approximations.\n",
      "  'approximations.', UserWarning)\n",
      "/Users/izzy/anaconda3/lib/python3.7/site-packages/scipy/optimize/_hessian_update_strategy.py:187: UserWarning: delta_grad == 0.0. Check if the approximated function is linear. If the function is linear better results can be obtained by defining the Hessian as zero instead of using quasi-Newton approximations.\n",
      "  'approximations.', UserWarning)\n",
      "/Users/izzy/anaconda3/lib/python3.7/site-packages/scipy/optimize/_hessian_update_strategy.py:187: UserWarning: delta_grad == 0.0. Check if the approximated function is linear. If the function is linear better results can be obtained by defining the Hessian as zero instead of using quasi-Newton approximations.\n",
      "  'approximations.', UserWarning)\n",
      "/Users/izzy/anaconda3/lib/python3.7/site-packages/scipy/optimize/_hessian_update_strategy.py:187: UserWarning: delta_grad == 0.0. Check if the approximated function is linear. If the function is linear better results can be obtained by defining the Hessian as zero instead of using quasi-Newton approximations.\n",
      "  'approximations.', UserWarning)\n",
      "/Users/izzy/anaconda3/lib/python3.7/site-packages/scipy/optimize/_hessian_update_strategy.py:187: UserWarning: delta_grad == 0.0. Check if the approximated function is linear. If the function is linear better results can be obtained by defining the Hessian as zero instead of using quasi-Newton approximations.\n",
      "  'approximations.', UserWarning)\n",
      "/Users/izzy/anaconda3/lib/python3.7/site-packages/scipy/optimize/_hessian_update_strategy.py:187: UserWarning: delta_grad == 0.0. Check if the approximated function is linear. If the function is linear better results can be obtained by defining the Hessian as zero instead of using quasi-Newton approximations.\n",
      "  'approximations.', UserWarning)\n",
      "/Users/izzy/anaconda3/lib/python3.7/site-packages/scipy/optimize/_hessian_update_strategy.py:187: UserWarning: delta_grad == 0.0. Check if the approximated function is linear. If the function is linear better results can be obtained by defining the Hessian as zero instead of using quasi-Newton approximations.\n",
      "  'approximations.', UserWarning)\n",
      "/Users/izzy/anaconda3/lib/python3.7/site-packages/scipy/optimize/_hessian_update_strategy.py:187: UserWarning: delta_grad == 0.0. Check if the approximated function is linear. If the function is linear better results can be obtained by defining the Hessian as zero instead of using quasi-Newton approximations.\n",
      "  'approximations.', UserWarning)\n",
      "/Users/izzy/anaconda3/lib/python3.7/site-packages/scipy/optimize/_hessian_update_strategy.py:187: UserWarning: delta_grad == 0.0. Check if the approximated function is linear. If the function is linear better results can be obtained by defining the Hessian as zero instead of using quasi-Newton approximations.\n",
      "  'approximations.', UserWarning)\n",
      "/Users/izzy/anaconda3/lib/python3.7/site-packages/scipy/optimize/_hessian_update_strategy.py:187: UserWarning: delta_grad == 0.0. Check if the approximated function is linear. If the function is linear better results can be obtained by defining the Hessian as zero instead of using quasi-Newton approximations.\n",
      "  'approximations.', UserWarning)\n",
      "/Users/izzy/anaconda3/lib/python3.7/site-packages/scipy/optimize/_hessian_update_strategy.py:187: UserWarning: delta_grad == 0.0. Check if the approximated function is linear. If the function is linear better results can be obtained by defining the Hessian as zero instead of using quasi-Newton approximations.\n",
      "  'approximations.', UserWarning)\n",
      "/Users/izzy/anaconda3/lib/python3.7/site-packages/scipy/optimize/_hessian_update_strategy.py:187: UserWarning: delta_grad == 0.0. Check if the approximated function is linear. If the function is linear better results can be obtained by defining the Hessian as zero instead of using quasi-Newton approximations.\n",
      "  'approximations.', UserWarning)\n",
      "/Users/izzy/anaconda3/lib/python3.7/site-packages/scipy/optimize/_hessian_update_strategy.py:187: UserWarning: delta_grad == 0.0. Check if the approximated function is linear. If the function is linear better results can be obtained by defining the Hessian as zero instead of using quasi-Newton approximations.\n",
      "  'approximations.', UserWarning)\n",
      "/Users/izzy/anaconda3/lib/python3.7/site-packages/scipy/optimize/_hessian_update_strategy.py:187: UserWarning: delta_grad == 0.0. Check if the approximated function is linear. If the function is linear better results can be obtained by defining the Hessian as zero instead of using quasi-Newton approximations.\n",
      "  'approximations.', UserWarning)\n",
      "/Users/izzy/anaconda3/lib/python3.7/site-packages/scipy/optimize/_hessian_update_strategy.py:187: UserWarning: delta_grad == 0.0. Check if the approximated function is linear. If the function is linear better results can be obtained by defining the Hessian as zero instead of using quasi-Newton approximations.\n",
      "  'approximations.', UserWarning)\n",
      "/Users/izzy/anaconda3/lib/python3.7/site-packages/scipy/optimize/_hessian_update_strategy.py:187: UserWarning: delta_grad == 0.0. Check if the approximated function is linear. If the function is linear better results can be obtained by defining the Hessian as zero instead of using quasi-Newton approximations.\n",
      "  'approximations.', UserWarning)\n",
      "/Users/izzy/anaconda3/lib/python3.7/site-packages/scipy/optimize/_hessian_update_strategy.py:187: UserWarning: delta_grad == 0.0. Check if the approximated function is linear. If the function is linear better results can be obtained by defining the Hessian as zero instead of using quasi-Newton approximations.\n",
      "  'approximations.', UserWarning)\n",
      "/Users/izzy/anaconda3/lib/python3.7/site-packages/scipy/optimize/_hessian_update_strategy.py:187: UserWarning: delta_grad == 0.0. Check if the approximated function is linear. If the function is linear better results can be obtained by defining the Hessian as zero instead of using quasi-Newton approximations.\n",
      "  'approximations.', UserWarning)\n",
      "/Users/izzy/anaconda3/lib/python3.7/site-packages/scipy/optimize/_hessian_update_strategy.py:187: UserWarning: delta_grad == 0.0. Check if the approximated function is linear. If the function is linear better results can be obtained by defining the Hessian as zero instead of using quasi-Newton approximations.\n",
      "  'approximations.', UserWarning)\n",
      "/Users/izzy/anaconda3/lib/python3.7/site-packages/scipy/optimize/_hessian_update_strategy.py:187: UserWarning: delta_grad == 0.0. Check if the approximated function is linear. If the function is linear better results can be obtained by defining the Hessian as zero instead of using quasi-Newton approximations.\n",
      "  'approximations.', UserWarning)\n",
      "/Users/izzy/anaconda3/lib/python3.7/site-packages/scipy/optimize/_hessian_update_strategy.py:187: UserWarning: delta_grad == 0.0. Check if the approximated function is linear. If the function is linear better results can be obtained by defining the Hessian as zero instead of using quasi-Newton approximations.\n",
      "  'approximations.', UserWarning)\n",
      "/Users/izzy/anaconda3/lib/python3.7/site-packages/scipy/optimize/_hessian_update_strategy.py:187: UserWarning: delta_grad == 0.0. Check if the approximated function is linear. If the function is linear better results can be obtained by defining the Hessian as zero instead of using quasi-Newton approximations.\n",
      "  'approximations.', UserWarning)\n",
      "/Users/izzy/anaconda3/lib/python3.7/site-packages/scipy/optimize/_hessian_update_strategy.py:187: UserWarning: delta_grad == 0.0. Check if the approximated function is linear. If the function is linear better results can be obtained by defining the Hessian as zero instead of using quasi-Newton approximations.\n",
      "  'approximations.', UserWarning)\n",
      "/Users/izzy/anaconda3/lib/python3.7/site-packages/scipy/optimize/_hessian_update_strategy.py:187: UserWarning: delta_grad == 0.0. Check if the approximated function is linear. If the function is linear better results can be obtained by defining the Hessian as zero instead of using quasi-Newton approximations.\n",
      "  'approximations.', UserWarning)\n"
     ]
    },
    {
     "name": "stdout",
     "output_type": "stream",
     "text": [
      "`xtol` termination condition is satisfied.\n",
      "Number of iterations: 99, function evaluations: 218, CG iterations: 87, optimality: 6.51e-06, constraint violation: 0.00e+00, execution time:  3.3 s.\n"
     ]
    },
    {
     "name": "stderr",
     "output_type": "stream",
     "text": [
      "/Users/izzy/anaconda3/lib/python3.7/site-packages/scipy/optimize/_hessian_update_strategy.py:187: UserWarning: delta_grad == 0.0. Check if the approximated function is linear. If the function is linear better results can be obtained by defining the Hessian as zero instead of using quasi-Newton approximations.\n",
      "  'approximations.', UserWarning)\n",
      "/Users/izzy/anaconda3/lib/python3.7/site-packages/scipy/optimize/_hessian_update_strategy.py:187: UserWarning: delta_grad == 0.0. Check if the approximated function is linear. If the function is linear better results can be obtained by defining the Hessian as zero instead of using quasi-Newton approximations.\n",
      "  'approximations.', UserWarning)\n",
      "/Users/izzy/anaconda3/lib/python3.7/site-packages/scipy/optimize/_hessian_update_strategy.py:187: UserWarning: delta_grad == 0.0. Check if the approximated function is linear. If the function is linear better results can be obtained by defining the Hessian as zero instead of using quasi-Newton approximations.\n",
      "  'approximations.', UserWarning)\n",
      "/Users/izzy/anaconda3/lib/python3.7/site-packages/scipy/optimize/_hessian_update_strategy.py:187: UserWarning: delta_grad == 0.0. Check if the approximated function is linear. If the function is linear better results can be obtained by defining the Hessian as zero instead of using quasi-Newton approximations.\n",
      "  'approximations.', UserWarning)\n",
      "/Users/izzy/anaconda3/lib/python3.7/site-packages/scipy/optimize/_hessian_update_strategy.py:187: UserWarning: delta_grad == 0.0. Check if the approximated function is linear. If the function is linear better results can be obtained by defining the Hessian as zero instead of using quasi-Newton approximations.\n",
      "  'approximations.', UserWarning)\n",
      "/Users/izzy/anaconda3/lib/python3.7/site-packages/scipy/optimize/_hessian_update_strategy.py:187: UserWarning: delta_grad == 0.0. Check if the approximated function is linear. If the function is linear better results can be obtained by defining the Hessian as zero instead of using quasi-Newton approximations.\n",
      "  'approximations.', UserWarning)\n"
     ]
    },
    {
     "data": {
      "text/plain": [
       " barrier_parameter: 2.048000000000001e-09\n",
       " barrier_tolerance: 2.048000000000001e-09\n",
       "          cg_niter: 87\n",
       "      cg_stop_cond: 2\n",
       "            constr: [array([0.9741538])]\n",
       "       constr_nfev: [0]\n",
       "       constr_nhev: [0]\n",
       "       constr_njev: [0]\n",
       "    constr_penalty: 1.0\n",
       "  constr_violation: 0.0\n",
       "    execution_time: 3.305583953857422\n",
       "               fun: 183923.7826956979\n",
       "              grad: array([0.00976562])\n",
       "               jac: [<1x1 sparse matrix of type '<class 'numpy.float64'>'\n",
       "\twith 1 stored elements in Compressed Sparse Row format>]\n",
       "   lagrangian_grad: array([6.5148056e-06])\n",
       "           message: '`xtol` termination condition is satisfied.'\n",
       "            method: 'tr_interior_point'\n",
       "              nfev: 218\n",
       "              nhev: 0\n",
       "               nit: 99\n",
       "             niter: 99\n",
       "              njev: 0\n",
       "        optimality: 6.514805600104853e-06\n",
       "            status: 2\n",
       "           success: True\n",
       "         tr_radius: 1.0000000000000005e-09\n",
       "                 v: [array([-0.00975911])]\n",
       "                 x: array([0.9741538])"
      ]
     },
     "execution_count": 18,
     "metadata": {},
     "output_type": "execute_result"
    }
   ],
   "source": [
    "x0=np.array([0.5]) # initial guess\n",
    "bounds = Bounds([0.0],[1.0]) #bounds for omega #zero not included\n",
    "omega_opt = minimize(likelihood,x0, method='trust-constr',args=(X,t), options={'disp': True}, bounds= bounds)\n",
    "omega_opt"
   ]
  },
  {
   "cell_type": "code",
   "execution_count": 19,
   "metadata": {},
   "outputs": [
    {
     "data": {
      "text/plain": [
       "array([0.9741538])"
      ]
     },
     "execution_count": 19,
     "metadata": {},
     "output_type": "execute_result"
    }
   ],
   "source": [
    "omega_opt = omega_opt['x'] #extracting the value of optimal omega\n",
    "omega_opt"
   ]
  },
  {
   "cell_type": "code",
   "execution_count": 20,
   "metadata": {},
   "outputs": [
    {
     "name": "stdout",
     "output_type": "stream",
     "text": [
      "optimal function value is: 183923.89321263554\n",
      "optimal omega is: 0.96\n"
     ]
    }
   ],
   "source": [
    "## Manually calculating the optminum\n",
    "omega_grid = np.linspace(0.001,0.96,100).tolist()\n",
    "ls = []\n",
    "for i in range(len(omega_grid)):\n",
    "    omega = omega_grid[i];\n",
    "    l = likelihood(omega, X,t);\n",
    "    ls.append(l);\n",
    "fun_val_opt= min(ls)\n",
    "print('optimal function value is:',fun_val_opt)\n",
    "omega_opt = omega_grid[ls.index(min(ls))]\n",
    "print('optimal omega is:',omega_opt)"
   ]
  },
  {
   "cell_type": "code",
   "execution_count": 21,
   "metadata": {},
   "outputs": [
    {
     "data": {
      "text/plain": [
       "[<matplotlib.lines.Line2D at 0x7fd5aeb1ad30>]"
      ]
     },
     "execution_count": 21,
     "metadata": {},
     "output_type": "execute_result"
    },
    {
     "data": {
      "image/png": "[encoded data removed]",
      "text/plain": [
       "<Figure size 432x288 with 1 Axes>"
      ]
     },
     "metadata": {
      "needs_background": "light"
     },
     "output_type": "display_data"
    }
   ],
   "source": [
    "plt.plot(ls)"
   ]
  },
  {
   "cell_type": "code",
   "execution_count": 22,
   "metadata": {},
   "outputs": [
    {
     "name": "stdout",
     "output_type": "stream",
     "text": [
      "[0.30619447]\n"
     ]
    },
    {
     "data": {
      "text/plain": [
       "0.991333654076182"
      ]
     },
     "execution_count": 22,
     "metadata": {},
     "output_type": "execute_result"
    }
   ],
   "source": [
    "# Compute density estimates using 'silverman' bandwidth with no weights\n",
    "h = bw_silverman(X)\n",
    "print(h)\n",
    "kde = KernelDensity(kernel='gaussian', bandwidth=h).fit(X)\n",
    "probabilities = np.exp(kde.score_samples(values))\n",
    "sum(probabilities) #checking it sums to 1"
   ]
  },
  {
   "cell_type": "code",
   "execution_count": 23,
   "metadata": {},
   "outputs": [
    {
     "name": "stdout",
     "output_type": "stream",
     "text": [
      "0.47479964637773064\n"
     ]
    }
   ],
   "source": [
    "# Compute a weighted estimate on the same grid, using exponential weights\n",
    "T = len(X)\n",
    "iterations = list(range(0,T))\n",
    "w = weights(iterations, t, T,omega_opt)\n",
    "kde_weighted = KernelDensity(kernel='gaussian', bandwidth=h).fit(X, sample_weight=w)\n",
    "probabilities_weighted = np.exp(kde_weighted.score_samples(X))\n",
    "sum(probabilities_weighted) #sum\n",
    "print(np.trapz(probabilities_weighted.ravel(), X.ravel())) #integral"
   ]
  },
  {
   "cell_type": "code",
   "execution_count": 24,
   "metadata": {},
   "outputs": [
    {
     "data": {
      "text/plain": [
       "<matplotlib.legend.Legend at 0x7fd5aeb46e48>"
      ]
     },
     "execution_count": 24,
     "metadata": {},
     "output_type": "execute_result"
    },
    {
     "data": {
      "image/png": "[encoded data removed]",
      "text/plain": [
       "<Figure size 432x288 with 1 Axes>"
      ]
     },
     "metadata": {
      "needs_background": "light"
     },
     "output_type": "display_data"
    }
   ],
   "source": [
    "#plt.plot(X, probabilities, label='KDE estimate with no weights')\n",
    "pd.DataFrame(probabilities_weighted).plot.kde()\n",
    "plt.grid(True, ls='--', zorder=-15); plt.legend()"
   ]
  },
  {
   "cell_type": "code",
   "execution_count": 25,
   "metadata": {},
   "outputs": [
    {
     "data": {
      "text/plain": [
       "<matplotlib.axes._subplots.AxesSubplot at 0x7fd5a9956e48>"
      ]
     },
     "execution_count": 25,
     "metadata": {},
     "output_type": "execute_result"
    },
    {
     "data": {
      "image/png": "[encoded data removed]",
      "text/plain": [
       "<Figure size 432x288 with 1 Axes>"
      ]
     },
     "metadata": {
      "needs_background": "light"
     },
     "output_type": "display_data"
    }
   ],
   "source": [
    "pd.DataFrame(probabilities_weighted).plot()\n"
   ]
  },
  {
   "cell_type": "code",
   "execution_count": 26,
   "metadata": {},
   "outputs": [
    {
     "data": {
      "text/html": [
       "<div>\n",
       "<style scoped>\n",
       "    .dataframe tbody tr th:only-of-type {\n",
       "        vertical-align: middle;\n",
       "    }\n",
       "\n",
       "    .dataframe tbody tr th {\n",
       "        vertical-align: top;\n",
       "    }\n",
       "\n",
       "    .dataframe thead th {\n",
       "        text-align: right;\n",
       "    }\n",
       "</style>\n",
       "<table border=\"1\" class=\"dataframe\">\n",
       "  <thead>\n",
       "    <tr style=\"text-align: right;\">\n",
       "      <th></th>\n",
       "      <th>0</th>\n",
       "    </tr>\n",
       "  </thead>\n",
       "  <tbody>\n",
       "    <tr>\n",
       "      <th>count</th>\n",
       "      <td>364.000000</td>\n",
       "    </tr>\n",
       "    <tr>\n",
       "      <th>mean</th>\n",
       "      <td>0.171465</td>\n",
       "    </tr>\n",
       "    <tr>\n",
       "      <th>std</th>\n",
       "      <td>0.302324</td>\n",
       "    </tr>\n",
       "    <tr>\n",
       "      <th>min</th>\n",
       "      <td>0.000007</td>\n",
       "    </tr>\n",
       "    <tr>\n",
       "      <th>25%</th>\n",
       "      <td>0.020506</td>\n",
       "    </tr>\n",
       "    <tr>\n",
       "      <th>50%</th>\n",
       "      <td>0.023821</td>\n",
       "    </tr>\n",
       "    <tr>\n",
       "      <th>75%</th>\n",
       "      <td>0.086016</td>\n",
       "    </tr>\n",
       "    <tr>\n",
       "      <th>max</th>\n",
       "      <td>0.957960</td>\n",
       "    </tr>\n",
       "  </tbody>\n",
       "</table>\n",
       "</div>"
      ],
      "text/plain": [
       "                0\n",
       "count  364.000000\n",
       "mean     0.171465\n",
       "std      0.302324\n",
       "min      0.000007\n",
       "25%      0.020506\n",
       "50%      0.023821\n",
       "75%      0.086016\n",
       "max      0.957960"
      ]
     },
     "execution_count": 26,
     "metadata": {},
     "output_type": "execute_result"
    }
   ],
   "source": [
    "pd.DataFrame(probabilities_weighted).describe()"
   ]
  },
  {
   "cell_type": "markdown",
   "metadata": {},
   "source": [
    "### Summarized code"
   ]
  },
  {
   "cell_type": "code",
   "execution_count": 28,
   "metadata": {},
   "outputs": [
    {
     "name": "stdout",
     "output_type": "stream",
     "text": [
      "optimal function value is: 74.08641332524329\n",
      "optimal omega is: 0.99999999\n",
      "optimal function value is: 48.428920434801405\n",
      "optimal omega is: 0.99999999\n"
     ]
    },
    {
     "ename": "IndexError",
     "evalue": "too many indices for array",
     "output_type": "error",
     "traceback": [
      "\u001b[0;31m---------------------------------------------------------------------------\u001b[0m",
      "\u001b[0;31mIndexError\u001b[0m                                Traceback (most recent call last)",
      "\u001b[0;32m<ipython-input-28-bfc454f09df6>\u001b[0m in \u001b[0;36m<module>\u001b[0;34m\u001b[0m\n\u001b[1;32m     28\u001b[0m         \u001b[0mvalues_list\u001b[0m\u001b[0;34m.\u001b[0m\u001b[0mappend\u001b[0m\u001b[0;34m(\u001b[0m\u001b[0mvalues\u001b[0m\u001b[0;34m)\u001b[0m\u001b[0;34m\u001b[0m\u001b[0;34m\u001b[0m\u001b[0m\n\u001b[1;32m     29\u001b[0m         \u001b[0mprobs\u001b[0m\u001b[0;34m.\u001b[0m\u001b[0mappend\u001b[0m\u001b[0;34m(\u001b[0m\u001b[0mprob_weighted\u001b[0m\u001b[0;34m)\u001b[0m\u001b[0;34m\u001b[0m\u001b[0;34m\u001b[0m\u001b[0m\n\u001b[0;32m---> 30\u001b[0;31m     \u001b[0maxs\u001b[0m\u001b[0;34m[\u001b[0m\u001b[0mi\u001b[0m\u001b[0;34m,\u001b[0m \u001b[0;36m0\u001b[0m\u001b[0;34m]\u001b[0m\u001b[0;34m.\u001b[0m\u001b[0mplot\u001b[0m\u001b[0;34m(\u001b[0m\u001b[0mvalues_list\u001b[0m\u001b[0;34m[\u001b[0m\u001b[0;36m0\u001b[0m\u001b[0;34m]\u001b[0m\u001b[0;34m,\u001b[0m \u001b[0mprobs\u001b[0m\u001b[0;34m[\u001b[0m\u001b[0;36m0\u001b[0m\u001b[0;34m]\u001b[0m\u001b[0;34m,\u001b[0m \u001b[0;34m'tab:red'\u001b[0m\u001b[0;34m)\u001b[0m\u001b[0;34m\u001b[0m\u001b[0;34m\u001b[0m\u001b[0m\n\u001b[0m\u001b[1;32m     31\u001b[0m     \u001b[0maxs\u001b[0m\u001b[0;34m[\u001b[0m\u001b[0mi\u001b[0m\u001b[0;34m,\u001b[0m \u001b[0;36m0\u001b[0m\u001b[0;34m]\u001b[0m\u001b[0;34m.\u001b[0m\u001b[0mset_title\u001b[0m\u001b[0;34m(\u001b[0m\u001b[0;34m'KDE estimate for 31.12.2019'\u001b[0m\u001b[0;34m)\u001b[0m\u001b[0;34m\u001b[0m\u001b[0;34m\u001b[0m\u001b[0m\n\u001b[1;32m     32\u001b[0m     \u001b[0maxs\u001b[0m\u001b[0;34m[\u001b[0m\u001b[0mi\u001b[0m\u001b[0;34m,\u001b[0m \u001b[0;36m1\u001b[0m\u001b[0;34m]\u001b[0m\u001b[0;34m.\u001b[0m\u001b[0mplot\u001b[0m\u001b[0;34m(\u001b[0m\u001b[0mvalues_list\u001b[0m\u001b[0;34m[\u001b[0m\u001b[0;36m1\u001b[0m\u001b[0;34m]\u001b[0m\u001b[0;34m,\u001b[0m \u001b[0mprobs\u001b[0m\u001b[0;34m[\u001b[0m\u001b[0;36m1\u001b[0m\u001b[0;34m]\u001b[0m\u001b[0;34m,\u001b[0m \u001b[0;34m'tab:green'\u001b[0m\u001b[0;34m)\u001b[0m\u001b[0;34m\u001b[0m\u001b[0;34m\u001b[0m\u001b[0m\n",
      "\u001b[0;31mIndexError\u001b[0m: too many indices for array"
     ]
    },
    {
     "data": {
      "image/png": "[encoded data removed]",
      "text/plain": [
       "<Figure size 720x2160 with 2 Axes>"
      ]
     },
     "metadata": {
      "needs_background": "light"
     },
     "output_type": "display_data"
    }
   ],
   "source": [
    "indices = [dax]#, nq, dow,btc, snp500]\n",
    "#indices = [dax]\n",
    "x0=np.array([0.5]) # initial guess\n",
    "bounds = Bounds([0.0],[1.0]) #bounds for omega #zero not included\n",
    "fig, axs = plt.subplots(len(indices), 2, figsize=(10, 30))\n",
    "for i in range(len(indices)):\n",
    "    probs = []\n",
    "    values_list = []\n",
    "    for year in [2019, 2020]:\n",
    "        df = indices[i]\n",
    "        df['Date'] = pd.to_datetime(df['Date'])\n",
    "        df = df[df['Date'].dt.year == year]\n",
    "        X = np.array(df[['returns']])\n",
    "        t = len(X)\n",
    "        T = len(X)\n",
    "        h = bw_silverman(X)\n",
    "        iterations = list(range(0,T)) #vector of i for weights\n",
    "        omega_opt = optimize_manual(X,t)\n",
    "        #omega_opt = minimize(likelihood,x0, method='trust-constr',args=(X,t), bounds= bounds)\n",
    "        #omega_opt = omega_opt['x']\n",
    "        w = weights(iterations, t, T,omega_opt)\n",
    "        kde_weighted = KernelDensity(kernel='gaussian', bandwidth=h).fit(X, sample_weight=w)\n",
    "        #values = np.array([value for value in range(1, t)])\n",
    "        #values = values.reshape((len(values), 1))\n",
    "        values  = np.linspace(-4, 8, 2000)\n",
    "        values = values[:, None]\n",
    "        prob_weighted = np.exp(kde_weighted.score_samples(values))\n",
    "        values_list.append(values)\n",
    "        probs.append(prob_weighted)\n",
    "    axs[i, 0].plot(values_list[0], probs[0], 'tab:red')\n",
    "    axs[i, 0].set_title('KDE estimate for 31.12.2019')\n",
    "    axs[i, 1].plot(values_list[1], probs[1], 'tab:green')\n",
    "    axs[i, 1].set_title('KDE estimate for 31.12.2020')"
   ]
  },
  {
   "cell_type": "code",
   "execution_count": 46,
   "metadata": {},
   "outputs": [
    {
     "name": "stdout",
     "output_type": "stream",
     "text": [
      "Iteration:      1,   Func. Count:      6,   Neg. LLF: 1094.9225268184318\n",
      "Iteration:      2,   Func. Count:     18,   Neg. LLF: 1091.0015042606599\n",
      "Iteration:      3,   Func. Count:     27,   Neg. LLF: 1090.9938981703876\n",
      "Iteration:      4,   Func. Count:     34,   Neg. LLF: 1090.9648370184127\n",
      "Iteration:      5,   Func. Count:     41,   Neg. LLF: 1090.6535134965848\n",
      "Iteration:      6,   Func. Count:     48,   Neg. LLF: 1090.4346107657007\n",
      "Iteration:      7,   Func. Count:     56,   Neg. LLF: 1090.357518948485\n",
      "Iteration:      8,   Func. Count:     64,   Neg. LLF: 1090.3540394071508\n",
      "Iteration:      9,   Func. Count:     70,   Neg. LLF: 1090.353633082621\n",
      "Iteration:     10,   Func. Count:     76,   Neg. LLF: 1090.3536301524196\n",
      "Optimization terminated successfully.    (Exit mode 0)\n",
      "            Current function value: 1090.3536301524991\n",
      "            Iterations: 10\n",
      "            Function evaluations: 76\n",
      "            Gradient evaluations: 10\n",
      "Iteration:      1,   Func. Count:      6,   Neg. LLF: 1069.1261467359845\n",
      "Iteration:      2,   Func. Count:     17,   Neg. LLF: 1069.0723721510053\n",
      "Iteration:      3,   Func. Count:     26,   Neg. LLF: 1069.0545222441592\n",
      "Iteration:      4,   Func. Count:     34,   Neg. LLF: 1068.8732706049896\n",
      "Iteration:      5,   Func. Count:     40,   Neg. LLF: 1068.3772759947778\n",
      "Iteration:      6,   Func. Count:     47,   Neg. LLF: 1068.3644028355711\n",
      "Iteration:      7,   Func. Count:     53,   Neg. LLF: 1068.3530976616826\n",
      "Iteration:      8,   Func. Count:     59,   Neg. LLF: 1068.3529765332678\n",
      "Optimization terminated successfully.    (Exit mode 0)\n",
      "            Current function value: 1068.3529766444776\n",
      "            Iterations: 8\n",
      "            Function evaluations: 59\n",
      "            Gradient evaluations: 8\n",
      "Iteration:      1,   Func. Count:      6,   Neg. LLF: 910.7106190719811\n",
      "Iteration:      2,   Func. Count:     15,   Neg. LLF: 910.1826350259178\n",
      "Iteration:      3,   Func. Count:     23,   Neg. LLF: 908.9600930217687\n",
      "Iteration:      4,   Func. Count:     30,   Neg. LLF: 907.1539364233986\n",
      "Iteration:      5,   Func. Count:     37,   Neg. LLF: 906.0796731462656\n",
      "Iteration:      6,   Func. Count:     44,   Neg. LLF: 905.0843325937449\n",
      "Iteration:      7,   Func. Count:     50,   Neg. LLF: 904.4775943782612\n",
      "Iteration:      8,   Func. Count:     58,   Neg. LLF: 904.4345407993776\n",
      "Iteration:      9,   Func. Count:     64,   Neg. LLF: 904.3154835138612\n",
      "Iteration:     10,   Func. Count:     70,   Neg. LLF: 904.3075404484213\n",
      "Iteration:     11,   Func. Count:     76,   Neg. LLF: 904.3073938409545\n",
      "Optimization terminated successfully.    (Exit mode 0)\n",
      "            Current function value: 904.3073940945089\n",
      "            Iterations: 11\n",
      "            Function evaluations: 76\n",
      "            Gradient evaluations: 11\n",
      "Iteration:      1,   Func. Count:      6,   Neg. LLF: 1952.5743232370933\n",
      "Iteration:      2,   Func. Count:     14,   Neg. LLF: 1952.1270982259032\n",
      "Iteration:      3,   Func. Count:     22,   Neg. LLF: 1951.812042158669\n",
      "Iteration:      4,   Func. Count:     30,   Neg. LLF: 1951.4572992463195\n",
      "Iteration:      5,   Func. Count:     38,   Neg. LLF: 1951.3788063702127\n",
      "Iteration:      6,   Func. Count:     44,   Neg. LLF: 1951.3460990850072\n",
      "Iteration:      7,   Func. Count:     50,   Neg. LLF: 1951.3447665558265\n",
      "Iteration:      8,   Func. Count:     56,   Neg. LLF: 1951.344658947257\n",
      "Optimization terminated successfully.    (Exit mode 0)\n",
      "            Current function value: 1951.344658946901\n",
      "            Iterations: 8\n",
      "            Function evaluations: 56\n",
      "            Gradient evaluations: 8\n",
      "Iteration:      1,   Func. Count:      6,   Neg. LLF: 865.1091088466615\n",
      "Iteration:      2,   Func. Count:     16,   Neg. LLF: 864.0818180967058\n",
      "Iteration:      3,   Func. Count:     24,   Neg. LLF: 863.327632597498\n",
      "Iteration:      4,   Func. Count:     32,   Neg. LLF: 862.9773198149704\n",
      "Iteration:      5,   Func. Count:     39,   Neg. LLF: 861.6861698687015\n",
      "Iteration:      6,   Func. Count:     45,   Neg. LLF: 860.3220776950279\n",
      "Iteration:      7,   Func. Count:     51,   Neg. LLF: 859.7186544428355\n",
      "Iteration:      8,   Func. Count:     57,   Neg. LLF: 859.2094415862305\n",
      "Iteration:      9,   Func. Count:     63,   Neg. LLF: 859.1084528028952\n",
      "Iteration:     10,   Func. Count:     69,   Neg. LLF: 859.1056324618064\n",
      "Iteration:     11,   Func. Count:     75,   Neg. LLF: 859.1056208549996\n",
      "Optimization terminated successfully.    (Exit mode 0)\n",
      "            Current function value: 859.105621437639\n",
      "            Iterations: 11\n",
      "            Function evaluations: 75\n",
      "            Gradient evaluations: 11\n",
      "Iteration:      1,   Func. Count:      6,   Neg. LLF: 1958.4775829849755\n",
      "Iteration:      2,   Func. Count:     14,   Neg. LLF: 1957.9442572164296\n",
      "Iteration:      3,   Func. Count:     22,   Neg. LLF: 1957.6001328286764\n",
      "Iteration:      4,   Func. Count:     30,   Neg. LLF: 1957.4209411870775\n",
      "Iteration:      5,   Func. Count:     38,   Neg. LLF: 1957.403856775005\n",
      "Iteration:      6,   Func. Count:     44,   Neg. LLF: 1957.3438112132662\n",
      "Iteration:      7,   Func. Count:     50,   Neg. LLF: 1957.3423746229369\n",
      "Iteration:      8,   Func. Count:     56,   Neg. LLF: 1957.3423065513114\n",
      "Optimization terminated successfully.    (Exit mode 0)\n",
      "            Current function value: 1957.3423065508014\n",
      "            Iterations: 8\n",
      "            Function evaluations: 56\n",
      "            Gradient evaluations: 8\n"
     ]
    }
   ],
   "source": [
    "## Garch model\n",
    "\n",
    "#pip install arch\n",
    "from arch import arch_model\n",
    "\n",
    "residuals = pd.DataFrame()\n",
    "indices = [dax, nq, dow,btc, snp500, crix]\n",
    "columns = ['res_dax', 'res_nq', 'res_dow','res_btc', 'res_snp500', 'res_crix']\n",
    "\n",
    "\n",
    "for i in range(len(indices)):\n",
    "    df = indices[i]\n",
    "    X = np.array(df[['returns']])\n",
    "    # define model\n",
    "    model = arch_model(X,  vol='GARCH', p=1, q=1)\n",
    "    # residuals\n",
    "    res = model.fit()\n",
    "    # fetching residuals adding as a column to Dataframe\n",
    "    residuals[columns[i]] = res.resid\n",
    "residuals.to_csv('residuals.csv',index=False)"
   ]
  },
  {
   "cell_type": "code",
   "execution_count": null,
   "metadata": {},
   "outputs": [],
   "source": []
  }
 ],
 "metadata": {
  "kernelspec": {
   "display_name": "Python 3",
   "language": "python",
   "name": "python3"
  },
  "language_info": {
   "codemirror_mode": {
    "name": "ipython",
    "version": 3
   },
   "file_extension": ".py",
   "mimetype": "text/x-python",
   "name": "python",
   "nbconvert_exporter": "python",
   "pygments_lexer": "ipython3",
   "version": "3.7.3"
  }
 },
 "nbformat": 4,
 "nbformat_minor": 2
}
