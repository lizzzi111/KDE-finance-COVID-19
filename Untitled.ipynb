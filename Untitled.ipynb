{
 "cells": [
  {
   "cell_type": "code",
   "execution_count": 9,
   "metadata": {},
   "outputs": [],
   "source": [
    "import pandas as pd\n",
    "import numpy as np\n",
    "from KDEpy import FFTKDE\n",
    "import matplotlib.pyplot as plt\n",
    "from scipy.optimize import minimize\n",
    "from scipy.optimize import Bounds\n",
    "from statsmodels.nonparametric.bandwidths import bw_silverman\n",
    "import math\n",
    "from KDE import TKDE\n",
    "from sklearn.neighbors import KernelDensity\n",
    "import datetime"
   ]
  },
  {
   "cell_type": "code",
   "execution_count": 10,
   "metadata": {},
   "outputs": [],
   "source": [
    "dax    = pd.read_csv(r'data/returns_dax.csv')\n",
    "nq     = pd.read_csv(r'data/returns_nq.csv')\n",
    "dow    = pd.read_csv(r'data/returns_dow.csv')\n",
    "crix   = pd.read_csv(r'data/returns_crix.csv')\n",
    "snp500 = pd.read_csv(r'data/returns_snp500.csv')\n",
    "crix   = crix.rename(columns={'date': 'Date'})\n",
    "btc    = pd.read_csv(r'data/returns_btc.csv')\n",
    "\n",
    "returns = pd.DataFrame({'timestamp' : dax.Date,\n",
    "                       'dax'        : dax['returns'],\n",
    "                       'dow'        : dow['returns'],\n",
    "                       'crix'       : crix.returns[1:].reset_index(drop=True),\n",
    "                       'snp500'     : snp500['returns'],\n",
    "                       'nq'         : nq['returns'],\n",
    "                       'btc'        : btc['returns'][1:-1].reset_index(drop=True)})\n",
    "\n",
    "returns.index = pd.to_datetime(returns['timestamp'])\n",
    "returns.drop('timestamp', axis=1, inplace = True)\n",
    "returns.loc['2019-01-02'] = 0"
   ]
  },
  {
   "cell_type": "code",
   "execution_count": 11,
   "metadata": {},
   "outputs": [
    {
     "name": "stdout",
     "output_type": "stream",
     "text": [
      "`gtol` termination condition is satisfied.\n",
      "Number of iterations: 12, function evaluations: 16, CG iterations: 7, optimality: 6.02e-10, constraint violation: 0.00e+00, execution time: 0.074 s.\n",
      "`gtol` termination condition is satisfied.\n",
      "Number of iterations: 12, function evaluations: 16, CG iterations: 7, optimality: 2.08e-10, constraint violation: 0.00e+00, execution time: 0.067 s.\n",
      "`gtol` termination condition is satisfied.\n",
      "Number of iterations: 12, function evaluations: 16, CG iterations: 7, optimality: 2.38e-09, constraint violation: 0.00e+00, execution time: 0.08 s.\n",
      "`gtol` termination condition is satisfied.\n",
      "Number of iterations: 12, function evaluations: 16, CG iterations: 7, optimality: 2.95e-10, constraint violation: 0.00e+00, execution time: 0.086 s.\n",
      "`gtol` termination condition is satisfied.\n",
      "Number of iterations: 12, function evaluations: 16, CG iterations: 7, optimality: 2.11e-10, constraint violation: 0.00e+00, execution time: 0.081 s.\n",
      "`gtol` termination condition is satisfied.\n",
      "Number of iterations: 12, function evaluations: 16, CG iterations: 7, optimality: 3.21e-09, constraint violation: 0.00e+00, execution time: 0.078 s.\n"
     ]
    }
   ],
   "source": [
    "estimates_list = []\n",
    "\n",
    "dic_list       = returns.apply(lambda index: TKDE(index, start='2020-01-01', until='2020-12-31'))"
   ]
  },
  {
   "cell_type": "code",
   "execution_count": 7,
   "metadata": {},
   "outputs": [
    {
     "data": {
      "text/plain": [
       "dax       {'TVKDE': [2.220446049250313e-16, 2.1546550551...\n",
       "dow       {'TVKDE': [2.4836100254577575e-16, 2.088864061...\n",
       "crix      {'TVKDE': [2.3905510399728177e-05, 2.696203484...\n",
       "snp500    {'TVKDE': [2.2862370433021743e-16, 2.319132540...\n",
       "nq        {'TVKDE': [2.1546550551984519e-16, 1.990177570...\n",
       "btc       {'TVKDE': [0.0007430601654009789, 0.0007847183...\n",
       "dtype: object"
      ]
     },
     "execution_count": 7,
     "metadata": {},
     "output_type": "execute_result"
    }
   ],
   "source": [
    "dic_list"
   ]
  },
  {
   "cell_type": "code",
   "execution_count": 8,
   "metadata": {},
   "outputs": [
    {
     "ename": "NameError",
     "evalue": "name 'df_post_COVID' is not defined",
     "output_type": "error",
     "traceback": [
      "\u001b[0;31m---------------------------------------------------------------------------\u001b[0m",
      "\u001b[0;31mNameError\u001b[0m                                 Traceback (most recent call last)",
      "\u001b[0;32m<ipython-input-8-df31b62b5d75>\u001b[0m in \u001b[0;36m<module>\u001b[0;34m\u001b[0m\n\u001b[0;32m----> 1\u001b[0;31m \u001b[0mdf_post_COVID\u001b[0m\u001b[0;34m[\u001b[0m\u001b[0;34m[\u001b[0m\u001b[0;34m'dax_TVKDE'\u001b[0m\u001b[0;34m,\u001b[0m \u001b[0;34m'dax_U'\u001b[0m\u001b[0;34m]\u001b[0m\u001b[0;34m]\u001b[0m\u001b[0;34m.\u001b[0m\u001b[0mplot\u001b[0m\u001b[0;34m(\u001b[0m\u001b[0;34m)\u001b[0m\u001b[0;34m\u001b[0m\u001b[0;34m\u001b[0m\u001b[0m\n\u001b[0m",
      "\u001b[0;31mNameError\u001b[0m: name 'df_post_COVID' is not defined"
     ]
    }
   ],
   "source": [
    "df_post_COVID[['dax_TVKDE', 'dax_U']].plot()"
   ]
  },
  {
   "cell_type": "code",
   "execution_count": null,
   "metadata": {},
   "outputs": [],
   "source": []
  }
 ],
 "metadata": {
  "kernelspec": {
   "display_name": "Python 3",
   "language": "python",
   "name": "python3"
  },
  "language_info": {
   "codemirror_mode": {
    "name": "ipython",
    "version": 3
   },
   "file_extension": ".py",
   "mimetype": "text/x-python",
   "name": "python",
   "nbconvert_exporter": "python",
   "pygments_lexer": "ipython3",
   "version": "3.7.3"
  }
 },
 "nbformat": 4,
 "nbformat_minor": 2
}
