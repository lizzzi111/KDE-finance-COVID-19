{
 "cells": [
  {
   "cell_type": "code",
   "execution_count": 8,
   "metadata": {},
   "outputs": [],
   "source": [
    "import pandas as pd\n",
    "import numpy as np\n",
    "from KDEpy import FFTKDE\n",
    "import matplotlib.pyplot as plt\n",
    "from scipy.optimize import minimize\n",
    "from scipy.optimize import Bounds\n",
    "from statsmodels.nonparametric.bandwidths import bw_silverman\n",
    "import math\n",
    "from KDE import TKDE\n",
    "from sklearn.neighbors import KernelDensity\n",
    "import datetime"
   ]
  },
  {
   "cell_type": "code",
   "execution_count": 9,
   "metadata": {},
   "outputs": [],
   "source": [
    "residuals = pd.read_csv(r'data/residuals.csv')\n",
    "dax       = pd.read_csv(r'data/returns_dax.csv')\n",
    "\n",
    "returns = pd.DataFrame({'timestamp' : dax.Date,\n",
    "                       'dax'       : residuals['res_dax'],\n",
    "                       'dow'       : residuals['res_dow'],\n",
    "                       'crix'      : residuals['res_crix'],\n",
    "                       'snp500'    : residuals['res_snp500'],\n",
    "                       'nq'        : residuals['res_nq'],\n",
    "                       'btc'       : residuals['res_btc']})\n",
    "\n",
    "returns.index = pd.to_datetime(returns['timestamp'])\n",
    "returns.drop('timestamp', axis=1, inplace = True)\n",
    "#returns.loc['2019-01-02'] = 0"
   ]
  },
  {
   "cell_type": "markdown",
   "metadata": {},
   "source": [
    "### Before COVID-19"
   ]
  },
  {
   "cell_type": "code",
   "execution_count": 10,
   "metadata": {},
   "outputs": [
    {
     "name": "stdout",
     "output_type": "stream",
     "text": [
      "`gtol` termination condition is satisfied.\n",
      "Number of iterations: 12, function evaluations: 16, CG iterations: 7, optimality: 5.60e-10, constraint violation: 0.00e+00, execution time: 0.07 s.\n",
      "`gtol` termination condition is satisfied.\n",
      "Number of iterations: 12, function evaluations: 16, CG iterations: 7, optimality: 1.68e-09, constraint violation: 0.00e+00, execution time: 0.069 s.\n",
      "`gtol` termination condition is satisfied.\n",
      "Number of iterations: 11, function evaluations: 14, CG iterations: 6, optimality: 6.53e-09, constraint violation: 0.00e+00, execution time: 0.068 s.\n",
      "`gtol` termination condition is satisfied.\n",
      "Number of iterations: 12, function evaluations: 16, CG iterations: 7, optimality: 1.03e-09, constraint violation: 0.00e+00, execution time: 0.093 s.\n",
      "`gtol` termination condition is satisfied.\n",
      "Number of iterations: 12, function evaluations: 16, CG iterations: 7, optimality: 3.95e-10, constraint violation: 0.00e+00, execution time: 0.078 s.\n",
      "`gtol` termination condition is satisfied.\n",
      "Number of iterations: 13, function evaluations: 18, CG iterations: 8, optimality: 2.41e-09, constraint violation: 0.00e+00, execution time: 0.085 s.\n"
     ]
    }
   ],
   "source": [
    "dic_list = returns.apply(lambda index: TKDE(index, until='2020-01-01'))"
   ]
  },
  {
   "cell_type": "markdown",
   "metadata": {},
   "source": [
    "### After COVID-19"
   ]
  },
  {
   "cell_type": "code",
   "execution_count": 11,
   "metadata": {},
   "outputs": [
    {
     "name": "stdout",
     "output_type": "stream",
     "text": [
      "`gtol` termination condition is satisfied.\n",
      "Number of iterations: 12, function evaluations: 16, CG iterations: 7, optimality: 6.02e-10, constraint violation: 0.00e+00, execution time: 0.08 s.\n",
      "`gtol` termination condition is satisfied.\n",
      "Number of iterations: 12, function evaluations: 16, CG iterations: 7, optimality: 2.08e-10, constraint violation: 0.00e+00, execution time: 0.069 s.\n",
      "`gtol` termination condition is satisfied.\n",
      "Number of iterations: 12, function evaluations: 16, CG iterations: 7, optimality: 2.38e-09, constraint violation: 0.00e+00, execution time: 0.081 s.\n",
      "`gtol` termination condition is satisfied.\n",
      "Number of iterations: 12, function evaluations: 16, CG iterations: 7, optimality: 2.95e-10, constraint violation: 0.00e+00, execution time: 0.082 s.\n",
      "`gtol` termination condition is satisfied.\n",
      "Number of iterations: 12, function evaluations: 16, CG iterations: 7, optimality: 2.11e-10, constraint violation: 0.00e+00, execution time: 0.072 s.\n",
      "`gtol` termination condition is satisfied.\n",
      "Number of iterations: 12, function evaluations: 16, CG iterations: 7, optimality: 3.21e-09, constraint violation: 0.00e+00, execution time: 0.078 s.\n"
     ]
    }
   ],
   "source": [
    "dic_list_covid = returns.apply(lambda index: TKDE(index, start='2020-01-01', until='2020-12-31'))"
   ]
  },
  {
   "cell_type": "code",
   "execution_count": 12,
   "metadata": {},
   "outputs": [],
   "source": [
    "df_pre_COVID   = pd.DataFrame({'x'           : np.linspace(-38, 19, 2000),\n",
    "                             'dax_TVKDE'     : dic_list['dax']['TVKDE'], \n",
    "                             'nq_TVKDE'      : dic_list['nq']['TVKDE'],\n",
    "                             'dow_TVKDE'     : dic_list['dow']['TVKDE'],\n",
    "                             'crix_TVKDE'    : dic_list['crix']['TVKDE'],\n",
    "                             'snp500_TVKDE'  : dic_list['crix']['TVKDE'],\n",
    "                             'btc_TVKDE'     : dic_list['btc']['TVKDE'],\n",
    "                             'dax_U'         : dic_list['dax']['Uweights'], \n",
    "                             'nq_U'          : dic_list['nq']['Uweights'],\n",
    "                             'dow_U'         : dic_list['dow']['Uweights'],\n",
    "                             'crix_U'        : dic_list['crix']['Uweights'],\n",
    "                             'snp500_U'      : dic_list['crix']['Uweights'],\n",
    "                             'btc_U'         : dic_list['btc']['Uweights']})"
   ]
  },
  {
   "cell_type": "code",
   "execution_count": 13,
   "metadata": {},
   "outputs": [],
   "source": [
    "df_post_COVID = pd.DataFrame({'x'            : np.linspace(-38, 19, 2000),\n",
    "                             'dax_TVKDE'     : dic_list_covid['dax']['TVKDE'], \n",
    "                             'nq_TVKDE'      : dic_list_covid['nq']['TVKDE'],\n",
    "                             'dow_TVKDE'     : dic_list_covid['dow']['TVKDE'],\n",
    "                             'crix_TVKDE'    : dic_list_covid['crix']['TVKDE'],\n",
    "                             'snp500_TVKDE'  : dic_list_covid['crix']['TVKDE'],\n",
    "                             'btc_TVKDE'     : dic_list_covid['btc']['TVKDE'],\n",
    "                             'dax_U'         : dic_list_covid['dax']['Uweights'], \n",
    "                             'nq_U'          : dic_list_covid['nq']['Uweights'],\n",
    "                             'dow_U'         : dic_list_covid['dow']['Uweights'],\n",
    "                             'crix_U'        : dic_list_covid['crix']['Uweights'],\n",
    "                             'snp500_U'      : dic_list_covid['crix']['Uweights'],\n",
    "                             'btc_U'         : dic_list_covid['btc']['Uweights']})"
   ]
  },
  {
   "cell_type": "code",
   "execution_count": 14,
   "metadata": {},
   "outputs": [],
   "source": [
    "df_post_COVID.to_csv('data/densities_residuals_post_covid.csv', index=False)\n",
    "df_pre_COVID.to_csv('data/densities_residuals_pre_covid.csv', index=False)"
   ]
  }
 ],
 "metadata": {
  "kernelspec": {
   "display_name": "Python 3",
   "language": "python",
   "name": "python3"
  },
  "language_info": {
   "codemirror_mode": {
    "name": "ipython",
    "version": 3
   },
   "file_extension": ".py",
   "mimetype": "text/x-python",
   "name": "python",
   "nbconvert_exporter": "python",
   "pygments_lexer": "ipython3",
   "version": "3.7.3"
  }
 },
 "nbformat": 4,
 "nbformat_minor": 2
}
