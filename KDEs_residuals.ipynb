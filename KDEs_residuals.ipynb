{
 "cells": [
  {
   "cell_type": "code",
   "execution_count": 1,
   "metadata": {},
   "outputs": [],
   "source": [
    "import pandas as pd\n",
    "import numpy as np\n",
    "from KDEpy import FFTKDE\n",
    "import matplotlib.pyplot as plt\n",
    "from scipy.optimize import minimize\n",
    "from scipy.optimize import Bounds\n",
    "from statsmodels.nonparametric.bandwidths import bw_silverman\n",
    "import math\n",
    "from KDE import TKDE\n",
    "from sklearn.neighbors import KernelDensity\n",
    "import datetime"
   ]
  },
  {
   "cell_type": "code",
<<<<<<< HEAD
   "execution_count": 2,
=======
   "execution_count": 4,
   "metadata": {},
   "outputs": [
    {
     "name": "stdout",
     "output_type": "stream",
     "text": [
      "Iteration:      1,   Func. Count:      6,   Neg. LLF: 1094.9225268184318\n",
      "Iteration:      2,   Func. Count:     18,   Neg. LLF: 1091.0015042606599\n",
      "Iteration:      3,   Func. Count:     27,   Neg. LLF: 1090.9938981703876\n",
      "Iteration:      4,   Func. Count:     34,   Neg. LLF: 1090.9648370184127\n",
      "Iteration:      5,   Func. Count:     41,   Neg. LLF: 1090.6535134965848\n",
      "Iteration:      6,   Func. Count:     48,   Neg. LLF: 1090.4346107657007\n",
      "Iteration:      7,   Func. Count:     56,   Neg. LLF: 1090.357518948485\n",
      "Iteration:      8,   Func. Count:     64,   Neg. LLF: 1090.3540394071508\n",
      "Iteration:      9,   Func. Count:     70,   Neg. LLF: 1090.353633082621\n",
      "Iteration:     10,   Func. Count:     76,   Neg. LLF: 1090.3536301524196\n",
      "Optimization terminated successfully.    (Exit mode 0)\n",
      "            Current function value: 1090.3536301524991\n",
      "            Iterations: 10\n",
      "            Function evaluations: 76\n",
      "            Gradient evaluations: 10\n",
      "Iteration:      1,   Func. Count:      6,   Neg. LLF: 1069.1261467359845\n",
      "Iteration:      2,   Func. Count:     17,   Neg. LLF: 1069.0723721510053\n",
      "Iteration:      3,   Func. Count:     26,   Neg. LLF: 1069.0545222441592\n",
      "Iteration:      4,   Func. Count:     34,   Neg. LLF: 1068.8732706049896\n",
      "Iteration:      5,   Func. Count:     40,   Neg. LLF: 1068.3772759947778\n",
      "Iteration:      6,   Func. Count:     47,   Neg. LLF: 1068.3644028355711\n",
      "Iteration:      7,   Func. Count:     53,   Neg. LLF: 1068.3530976616826\n",
      "Iteration:      8,   Func. Count:     59,   Neg. LLF: 1068.3529765332678\n",
      "Optimization terminated successfully.    (Exit mode 0)\n",
      "            Current function value: 1068.3529766444776\n",
      "            Iterations: 8\n",
      "            Function evaluations: 59\n",
      "            Gradient evaluations: 8\n",
      "Iteration:      1,   Func. Count:      6,   Neg. LLF: 910.7106190719811\n",
      "Iteration:      2,   Func. Count:     15,   Neg. LLF: 910.1826350259178\n",
      "Iteration:      3,   Func. Count:     23,   Neg. LLF: 908.9600930217687\n",
      "Iteration:      4,   Func. Count:     30,   Neg. LLF: 907.1539364233986\n",
      "Iteration:      5,   Func. Count:     37,   Neg. LLF: 906.0796731462656\n",
      "Iteration:      6,   Func. Count:     44,   Neg. LLF: 905.0843325937449\n",
      "Iteration:      7,   Func. Count:     50,   Neg. LLF: 904.4775943782612\n",
      "Iteration:      8,   Func. Count:     58,   Neg. LLF: 904.4345407993776\n",
      "Iteration:      9,   Func. Count:     64,   Neg. LLF: 904.3154835138612\n",
      "Iteration:     10,   Func. Count:     70,   Neg. LLF: 904.3075404484213\n",
      "Iteration:     11,   Func. Count:     76,   Neg. LLF: 904.3073938409545\n",
      "Optimization terminated successfully.    (Exit mode 0)\n",
      "            Current function value: 904.3073940945089\n",
      "            Iterations: 11\n",
      "            Function evaluations: 76\n",
      "            Gradient evaluations: 11\n",
      "Iteration:      1,   Func. Count:      6,   Neg. LLF: 1952.5743232370933\n",
      "Iteration:      2,   Func. Count:     14,   Neg. LLF: 1952.1270982259032\n",
      "Iteration:      3,   Func. Count:     22,   Neg. LLF: 1951.812042158669\n",
      "Iteration:      4,   Func. Count:     30,   Neg. LLF: 1951.4572992463195\n",
      "Iteration:      5,   Func. Count:     38,   Neg. LLF: 1951.3788063702127\n",
      "Iteration:      6,   Func. Count:     44,   Neg. LLF: 1951.3460990850072\n",
      "Iteration:      7,   Func. Count:     50,   Neg. LLF: 1951.3447665558265\n",
      "Iteration:      8,   Func. Count:     56,   Neg. LLF: 1951.344658947257\n",
      "Optimization terminated successfully.    (Exit mode 0)\n",
      "            Current function value: 1951.344658946901\n",
      "            Iterations: 8\n",
      "            Function evaluations: 56\n",
      "            Gradient evaluations: 8\n",
      "Iteration:      1,   Func. Count:      6,   Neg. LLF: 865.1091088466615\n",
      "Iteration:      2,   Func. Count:     16,   Neg. LLF: 864.0818180967058\n",
      "Iteration:      3,   Func. Count:     24,   Neg. LLF: 863.327632597498\n",
      "Iteration:      4,   Func. Count:     32,   Neg. LLF: 862.9773198149704\n",
      "Iteration:      5,   Func. Count:     39,   Neg. LLF: 861.6861698687015\n",
      "Iteration:      6,   Func. Count:     45,   Neg. LLF: 860.3220776950279\n",
      "Iteration:      7,   Func. Count:     51,   Neg. LLF: 859.7186544428355\n",
      "Iteration:      8,   Func. Count:     57,   Neg. LLF: 859.2094415862305\n",
      "Iteration:      9,   Func. Count:     63,   Neg. LLF: 859.1084528028952\n",
      "Iteration:     10,   Func. Count:     69,   Neg. LLF: 859.1056324618064\n",
      "Iteration:     11,   Func. Count:     75,   Neg. LLF: 859.1056208549996\n",
      "Optimization terminated successfully.    (Exit mode 0)\n",
      "            Current function value: 859.105621437639\n",
      "            Iterations: 11\n",
      "            Function evaluations: 75\n",
      "            Gradient evaluations: 11\n",
      "Iteration:      1,   Func. Count:      6,   Neg. LLF: 1958.4775829849755\n",
      "Iteration:      2,   Func. Count:     14,   Neg. LLF: 1957.9442572164296\n",
      "Iteration:      3,   Func. Count:     22,   Neg. LLF: 1957.6001328286764\n",
      "Iteration:      4,   Func. Count:     30,   Neg. LLF: 1957.4209411870775\n",
      "Iteration:      5,   Func. Count:     38,   Neg. LLF: 1957.403856775005\n",
      "Iteration:      6,   Func. Count:     44,   Neg. LLF: 1957.3438112132662\n",
      "Iteration:      7,   Func. Count:     50,   Neg. LLF: 1957.3423746229369\n",
      "Iteration:      8,   Func. Count:     56,   Neg. LLF: 1957.3423065513114\n",
      "Optimization terminated successfully.    (Exit mode 0)\n",
      "            Current function value: 1957.3423065508014\n",
      "            Iterations: 8\n",
      "            Function evaluations: 56\n",
      "            Gradient evaluations: 8\n"
     ]
    }
   ],
   "source": [
    "## Garch model\n",
    "\n",
    "#pip install arch\n",
    "from arch import arch_model\n",
    "\n",
    "dax = pd.read_csv(r'data/returns_dax.csv', index_col=[0])\n",
    "nq = pd.read_csv(r'data/returns_nq.csv', index_col=[0])\n",
    "dow = pd.read_csv(r'data/returns_dow.csv', index_col=[0])\n",
    "crix = pd.read_csv(r'data/returns_crix.csv', index_col=[0])\n",
    "crix.drop(crix.head(1).index,inplace = True)\n",
    "snp500 = pd.read_csv(r'data/returns_snp500.csv', index_col=[0])\n",
    "btc = pd.read_csv(r'data/returns_btc.csv', index_col=[0])\n",
    "btc.drop(btc.head(1).index,inplace = True)\n",
    "btc.drop(btc.tail(1).index,inplace = True)#btc has two additional data point\n",
    "\n",
    "residuals = pd.DataFrame()\n",
    "indices = [dax, nq, dow,btc, snp500, crix]\n",
    "columns = ['res_dax', 'res_nq', 'res_dow','res_btc', 'res_snp500', 'res_crix']\n",
    "\n",
    "\n",
    "for i in range(len(indices)):\n",
    "    df = indices[i]\n",
    "    X = np.array(df[['returns']])\n",
    "    # define model\n",
    "    model = arch_model(X,  vol='GARCH', p=1, q=1)\n",
    "    # residuals\n",
    "    res = model.fit()\n",
    "    # fetching residuals adding as a column to Dataframe\n",
    "    residuals[columns[i]] = res.resid\n",
    "residuals.to_csv('residuals.csv',index=False)"
   ]
  },
  {
   "cell_type": "code",
   "execution_count": 5,
>>>>>>> f5faeb86d9ec8e1fd6d25bc4a80db9cf8534ea22
   "metadata": {},
   "outputs": [],
   "source": [
    "residuals = pd.read_csv(r'data/residuals.csv')\n",
    "dax       = pd.read_csv(r'data/returns_dax.csv')\n",
    "\n",
    "returns = pd.DataFrame({'timestamp' : dax.Date,\n",
    "                       'dax'       : residuals['res_dax'],\n",
    "                       'dow'       : residuals['res_dow'],\n",
    "                       'crix'      : residuals['res_crix'],\n",
    "                       'snp500'    : residuals['res_snp500'],\n",
    "                       'nq'        : residuals['res_nq'],\n",
    "                       'btc'       : residuals['res_btc']})\n",
    "\n",
    "returns.index = pd.to_datetime(returns['timestamp'])\n",
    "returns.drop('timestamp', axis=1, inplace = True)\n",
    "#returns.loc['2019-01-02'] = 0"
   ]
  },
  {
   "cell_type": "markdown",
   "metadata": {},
   "source": [
    "### Before COVID-19"
   ]
  },
  {
   "cell_type": "code",
   "execution_count": 3,
   "metadata": {},
   "outputs": [
    {
     "name": "stdout",
     "output_type": "stream",
     "text": [
      "`gtol` termination condition is satisfied.\n",
      "Number of iterations: 12, function evaluations: 16, CG iterations: 7, optimality: 5.60e-10, constraint violation: 0.00e+00, execution time: 0.074 s.\n",
      "`gtol` termination condition is satisfied.\n",
      "Number of iterations: 12, function evaluations: 16, CG iterations: 7, optimality: 1.68e-09, constraint violation: 0.00e+00, execution time: 0.067 s.\n",
      "`gtol` termination condition is satisfied.\n",
      "Number of iterations: 11, function evaluations: 14, CG iterations: 6, optimality: 6.53e-09, constraint violation: 0.00e+00, execution time: 0.059 s.\n",
      "`gtol` termination condition is satisfied.\n",
      "Number of iterations: 12, function evaluations: 16, CG iterations: 7, optimality: 1.03e-09, constraint violation: 0.00e+00, execution time: 0.073 s.\n",
      "`gtol` termination condition is satisfied.\n",
      "Number of iterations: 12, function evaluations: 16, CG iterations: 7, optimality: 3.95e-10, constraint violation: 0.00e+00, execution time: 0.063 s.\n",
      "`gtol` termination condition is satisfied.\n",
      "Number of iterations: 13, function evaluations: 18, CG iterations: 8, optimality: 2.41e-09, constraint violation: 0.00e+00, execution time: 0.078 s.\n"
     ]
    }
   ],
   "source": [
    "dic_list = returns.apply(lambda index: TKDE(index, until='2020-01-01'))"
   ]
  },
  {
   "cell_type": "markdown",
   "metadata": {},
   "source": [
    "### After COVID-19"
   ]
  },
  {
   "cell_type": "code",
   "execution_count": 4,
   "metadata": {},
   "outputs": [
    {
     "name": "stdout",
     "output_type": "stream",
     "text": [
      "`gtol` termination condition is satisfied.\n",
      "Number of iterations: 12, function evaluations: 16, CG iterations: 7, optimality: 6.02e-10, constraint violation: 0.00e+00, execution time: 0.076 s.\n",
      "`gtol` termination condition is satisfied.\n",
      "Number of iterations: 12, function evaluations: 16, CG iterations: 7, optimality: 2.08e-10, constraint violation: 0.00e+00, execution time: 0.067 s.\n",
      "`gtol` termination condition is satisfied.\n",
      "Number of iterations: 12, function evaluations: 16, CG iterations: 7, optimality: 2.38e-09, constraint violation: 0.00e+00, execution time: 0.07 s.\n",
      "`gtol` termination condition is satisfied.\n",
      "Number of iterations: 12, function evaluations: 16, CG iterations: 7, optimality: 2.95e-10, constraint violation: 0.00e+00, execution time: 0.07 s.\n",
      "`gtol` termination condition is satisfied.\n",
      "Number of iterations: 12, function evaluations: 16, CG iterations: 7, optimality: 2.11e-10, constraint violation: 0.00e+00, execution time: 0.07 s.\n",
      "`gtol` termination condition is satisfied.\n",
      "Number of iterations: 12, function evaluations: 16, CG iterations: 7, optimality: 3.21e-09, constraint violation: 0.00e+00, execution time: 0.068 s.\n"
     ]
    }
   ],
   "source": [
    "dic_list_covid = returns.apply(lambda index: TKDE(index, start='2020-01-01', until='2020-12-31'))"
   ]
  },
  {
   "cell_type": "code",
   "execution_count": 5,
   "metadata": {},
   "outputs": [],
   "source": [
    "df_pre_COVID   = pd.DataFrame({'x'           : np.linspace(-38, 19, 2000),\n",
    "                             'dax_TVKDE'     : dic_list['dax']['TVKDE'], \n",
    "                             'nq_TVKDE'      : dic_list['nq']['TVKDE'],\n",
    "                             'dow_TVKDE'     : dic_list['dow']['TVKDE'],\n",
    "                             'crix_TVKDE'    : dic_list['crix']['TVKDE'],\n",
    "                             'snp500_TVKDE'  : dic_list['snp500']['TVKDE'],\n",
    "                             'btc_TVKDE'     : dic_list['btc']['TVKDE'],\n",
    "                             'dax_U'         : dic_list['dax']['Uweights'], \n",
    "                             'nq_U'          : dic_list['nq']['Uweights'],\n",
    "                             'dow_U'         : dic_list['dow']['Uweights'],\n",
    "                             'crix_U'        : dic_list['crix']['Uweights'],\n",
    "                             'snp500_U'      : dic_list['snp500']['Uweights'],\n",
    "                             'btc_U'         : dic_list['btc']['Uweights']})"
   ]
  },
  {
   "cell_type": "code",
   "execution_count": 6,
   "metadata": {},
   "outputs": [],
   "source": [
    "df_post_COVID = pd.DataFrame({'x'            : np.linspace(-38, 19, 2000),\n",
    "                             'dax_TVKDE'     : dic_list_covid['dax']['TVKDE'], \n",
    "                             'nq_TVKDE'      : dic_list_covid['nq']['TVKDE'],\n",
    "                             'dow_TVKDE'     : dic_list_covid['dow']['TVKDE'],\n",
    "                             'crix_TVKDE'    : dic_list_covid['crix']['TVKDE'],\n",
    "                             'snp500_TVKDE'  : dic_list_covid['snp500']['TVKDE'],\n",
    "                             'btc_TVKDE'     : dic_list_covid['btc']['TVKDE'],\n",
    "                             'dax_U'         : dic_list_covid['dax']['Uweights'], \n",
    "                             'nq_U'          : dic_list_covid['nq']['Uweights'],\n",
    "                             'dow_U'         : dic_list_covid['dow']['Uweights'],\n",
    "                             'crix_U'        : dic_list_covid['crix']['Uweights'],\n",
    "                             'snp500_U'      : dic_list_covid['snp500']['Uweights'],\n",
    "                             'btc_U'         : dic_list_covid['btc']['Uweights']})"
   ]
  },
  {
   "cell_type": "code",
   "execution_count": 7,
   "metadata": {},
   "outputs": [],
   "source": [
    "df_post_COVID.to_csv('data/densities_residuals_post_covid.csv', index=False)\n",
    "df_pre_COVID.to_csv('data/densities_residuals_pre_covid.csv', index=False)"
   ]
  },
  {
   "cell_type": "code",
   "execution_count": null,
   "metadata": {},
   "outputs": [],
   "source": []
  }
 ],
 "metadata": {
  "kernelspec": {
   "display_name": "Python 3",
   "language": "python",
   "name": "python3"
  },
  "language_info": {
   "codemirror_mode": {
    "name": "ipython",
    "version": 3
   },
   "file_extension": ".py",
   "mimetype": "text/x-python",
   "name": "python",
   "nbconvert_exporter": "python",
   "pygments_lexer": "ipython3",
   "version": "3.7.4"
  }
 },
 "nbformat": 4,
 "nbformat_minor": 2
}
